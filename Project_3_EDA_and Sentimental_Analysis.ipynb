{
  "nbformat": 4,
  "nbformat_minor": 0,
  "metadata": {
    "colab": {
      "provenance": [],
      "include_colab_link": true
    },
    "kernelspec": {
      "name": "python3",
      "display_name": "Python 3"
    },
    "language_info": {
      "name": "python"
    }
  },
  "cells": [
    {
      "cell_type": "markdown",
      "metadata": {
        "id": "view-in-github",
        "colab_type": "text"
      },
      "source": [
        "<a href=\"https://colab.research.google.com/github/Isreal-Oluwasegun/Bincom-interview-solution/blob/main/Project_3_EDA_and%20Sentimental_Analysis.ipynb\" target=\"_parent\"><img src=\"https://colab.research.google.com/assets/colab-badge.svg\" alt=\"Open In Colab\"/></a>"
      ]
    },
    {
      "cell_type": "markdown",
      "source": [
        "## Assignment\n",
        "\n",
        "You will complete three tasks, each requiring you to write a function that performs a specific analysis on a provided dataset. Ensure your functions follow the provided format so they can be tested using an automated testing function."
      ],
      "metadata": {
        "id": "bLASKUAOboyZ"
      }
    },
    {
      "cell_type": "code",
      "source": [
        "import pandas as pd\n",
        "\n",
        "import numpy as np\n",
        "\n"
      ],
      "metadata": {
        "id": "luFb7LBWcNGW"
      },
      "execution_count": 1,
      "outputs": []
    },
    {
      "cell_type": "code",
      "source": [
        "def create_sample_dataframe():\n",
        "  \"\"\"\n",
        "  Creates a simple dataframe with three numerical columns and 10 rows.\n",
        "\n",
        "  Returns:\n",
        "    pandas.DataFrame: A dataframe with three columns named \"col1\", \"col2\", and \"col3\", each containing 10 random integers between 0 and 100.\n",
        "  \"\"\"\n",
        "  np.random.seed(4)\n",
        "  data = {\n",
        "      \"col1\": np.random.randint(0, 100, 10),\n",
        "      \"col2\": np.random.randint(0, 100, 10),\n",
        "      \"col3\": np.random.randint(0, 100, 10),\n",
        "  }\n",
        "  return pd.DataFrame(data)\n",
        "\n",
        "sample_df = create_sample_dataframe()\n",
        "sample_df"
      ],
      "metadata": {
        "id": "rL6fGLwYc0T5"
      },
      "execution_count": null,
      "outputs": []
    },
    {
      "cell_type": "code",
      "source": [
        "#Random reviews\n",
        "reviews = [\n",
        "    \"Great product! I love it!\",\n",
        "    \"It's okay, but not what I expected.\",\n",
        "    \"Very disappointed with this product.\",\n",
        "    \"Excellent quality and value for money.\",\n",
        "    \"I would not recommend this product.\",\n",
        "    \"It's a good product, but a bit overpriced.\",\n",
        "    \"I'm very satisfied with this purchase.\",\n",
        "    \"It's a great product for the price.\",\n",
        "    \"I'm not sure if I would buy it again.\",\n",
        "    \"I'm very happy with this product.\",\n",
        "]\n",
        "\n",
        "\n",
        "sample_df[\"reviews\"] = reviews\n",
        "\n",
        "# Print the dataframe\n",
        "sample_df\n"
      ],
      "metadata": {
        "id": "oKFmbKPffIq3"
      },
      "execution_count": null,
      "outputs": []
    },
    {
      "cell_type": "markdown",
      "source": [
        "### Calculate Correlation:\n",
        "\n",
        "Write a function to calculate the correlation between two variables in a dataset."
      ],
      "metadata": {
        "id": "Xa1-vFZ5b4l1"
      }
    },
    {
      "cell_type": "code",
      "source": [
        "def calculate_correlation(df, col1, col2):\n",
        "    \"\"\"\n",
        "    Calculate the correlation coefficient between two columns in a DataFrame.\n",
        "\n",
        "    Parameters:\n",
        "    df (DataFrame): The input DataFrame.\n",
        "    col1 (str): The name of the first column.\n",
        "    col2 (str): The name of the second column.\n",
        "\n",
        "    Returns:\n",
        "    float: The correlation coefficient.\n",
        "    \"\"\"\n",
        "    # Your code here\n",
        "\n",
        "\n",
        "    pass"
      ],
      "metadata": {
        "id": "on-MPw4Lb0aE"
      },
      "execution_count": null,
      "outputs": []
    },
    {
      "cell_type": "code",
      "execution_count": null,
      "metadata": {
        "id": "DXOSSLE1betT"
      },
      "outputs": [],
      "source": [
        "# Simple test to check if code is correct\n",
        "calculate_correlation(sample_df, \"col1\", \"col2\")\n",
        "# Expected Output: -0.2657"
      ]
    },
    {
      "cell_type": "markdown",
      "source": [
        "### Calculate Skewness and Kurtosis:\n",
        "Write a function to calculate the skewness and kurtosis of a variable in a dataset."
      ],
      "metadata": {
        "id": "lPoJm_b5c2q5"
      }
    },
    {
      "cell_type": "markdown",
      "source": [
        "**Note: sklearn's skew and kurt function don't account for statistical bias. Prefer pandas functions.**"
      ],
      "metadata": {
        "id": "WrbhSMKk5h34"
      }
    },
    {
      "cell_type": "code",
      "source": [
        "def calculate_skewness_kurtosis(df, col):\n",
        "    \"\"\"\n",
        "    Calculate the skewness and kurtosis of a column in a DataFrame.\n",
        "\n",
        "    Parameters:\n",
        "    df (DataFrame): The input DataFrame.\n",
        "    col (str): The name of the column.\n",
        "\n",
        "    Returns:\n",
        "    tuple: A tuple containing skewness and kurtosis.\n",
        "    \"\"\"\n",
        "    # Your code here\n",
        "\n",
        "\n",
        "\n",
        "    pass"
      ],
      "metadata": {
        "id": "cP1HRIKLc5uB"
      },
      "execution_count": null,
      "outputs": []
    },
    {
      "cell_type": "code",
      "source": [
        "# Simple test to check if code is correct\n",
        "skew_check, kurt_check = calculate_skewness_kurtosis(sample_df, \"col1\")\n",
        "print(f\"Skewness: {skew_check}, Kurtosis: {kurt_check}\")\n",
        "# Expected Output: Skewness: -0.6796, Kurtosis: -0.113"
      ],
      "metadata": {
        "id": "CPs-98-FdCvU"
      },
      "execution_count": null,
      "outputs": []
    },
    {
      "cell_type": "markdown",
      "source": [
        "### Sentiment Analysis Summary:\n",
        "Write a function to perform sentiment analysis on a dataset of text reviews and return the counts of positive, negative, and neutral reviews."
      ],
      "metadata": {
        "id": "UAauLA19dQvb"
      }
    },
    {
      "cell_type": "code",
      "source": [
        "from textblob import TextBlob\n",
        "\n",
        "def sentiment_analysis_summary(df, text_col):\n",
        "    \"\"\"\n",
        "    Perform sentiment analysis on text data and return the counts of positive, negative, and neutral reviews.\n",
        "\n",
        "    Parameters:\n",
        "    df (DataFrame): The input DataFrame.\n",
        "    text_col (str): The name of the column containing text data.\n",
        "\n",
        "    Returns:\n",
        "    dict: A dictionary with counts of positive, negative, and neutral reviews.\n",
        "    \"\"\"\n",
        "    # Your code here\n",
        "\n",
        "\n",
        "\n",
        "    pass"
      ],
      "metadata": {
        "id": "qyQaSHcfdabY"
      },
      "execution_count": null,
      "outputs": []
    },
    {
      "cell_type": "code",
      "source": [
        "# Simple test to check if code is correct\n",
        "sentiment_analysis_summary(sample_df, \"reviews\")\n",
        "# Expected Output: {'positive': 7, 'negative': 2, 'neutral': 1}\n"
      ],
      "metadata": {
        "id": "7H2h4LJRfYzp"
      },
      "execution_count": null,
      "outputs": []
    }
  ]
}